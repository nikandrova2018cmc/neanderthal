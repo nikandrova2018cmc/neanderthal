{
 "cells": [
  {
   "cell_type": "code",
   "execution_count": 21,
   "id": "1dda7565",
   "metadata": {},
   "outputs": [
    {
     "data": {
      "image/svg+xml": [
       "<svg xmlns=\"http://www.w3.org/2000/svg\" xmlns:ev=\"http://www.w3.org/2001/xml-events\" xmlns:xlink=\"http://www.w3.org/1999/xlink\" baseProfile=\"full\" height=\"200\" version=\"1.1\" width=\"200\"><defs><style type=\"text/css\"><![CDATA[.background path {fill: #808080; fill-opacity: 0}.background path:nth-child(odd) {fill-opacity: .1}.axes {font-size: 14px}.x-axis .tick .lab {font-weight: bold; dominant-baseline: hanging}.axes, .tree {font-size: 14px; text-anchor: middle}.axes line, .edge {stroke: black; fill: none}.y-axis .grid {stroke: #FAFAFA}.node > .sym {fill: black; stroke: none}.site > .sym {stroke: black}.mut text {fill: red; font-style: italic}.mut.extra text {fill: hotpink}.mut line {fill: none; stroke: none}.mut .sym {fill: none; stroke: red}.mut.extra .sym {stroke: hotpink}.node .mut .sym {stroke-width: 1.5px}.tree text, .tree-sequence text {dominant-baseline: central}.plotbox .lab.lft {text-anchor: end}.plotbox .lab.rgt {text-anchor: start}]]></style></defs><g class=\"tree t0\"><g class=\"plotbox\"><g class=\"c2 node n4 root\" transform=\"translate(113.333 26.8)\"><g class=\"a4 leaf node n2 sample\" transform=\"translate(40 141.4)\"><path class=\"edge\" d=\"M 0 0 V -141.4 H -40\"/><rect class=\"sym\" height=\"6\" width=\"6\" x=\"-3\" y=\"-3\"/><text class=\"lab\" transform=\"translate(0 11)\">Modern</text></g><g class=\"a4 c2 node n3\" transform=\"translate(-40 70.7)\"><g class=\"a3 leaf node n0 sample\" transform=\"translate(-26.6667 70.7)\"><path class=\"edge\" d=\"M 0 0 V -70.7 H 26.6667\"/><rect class=\"sym\" height=\"6\" width=\"6\" x=\"-3\" y=\"-3\"/><text class=\"lab\" transform=\"translate(0 11)\">ND</text></g><g class=\"a3 leaf node n1 sample\" transform=\"translate(26.6667 70.7)\"><path class=\"edge\" d=\"M 0 0 V -70.7 H -26.6667\"/><rect class=\"sym\" height=\"6\" width=\"6\" x=\"-3\" y=\"-3\"/><text class=\"lab\" transform=\"translate(0 11)\">DN</text></g><path class=\"edge\" d=\"M 0 0 V -70.7 H 40\"/><circle class=\"sym\" cx=\"0\" cy=\"0\" r=\"3\"/><text class=\"lab lft\" transform=\"translate(-3 -7.0)\">Archaic</text></g><circle class=\"sym\" cx=\"0\" cy=\"0\" r=\"3\"/><text class=\"lab\" transform=\"translate(0 -11)\">Hominin</text></g></g></g></svg>"
      ],
      "text/plain": [
       "<IPython.core.display.SVG object>"
      ]
     },
     "execution_count": 21,
     "metadata": {},
     "output_type": "execute_result"
    }
   ],
   "source": [
    "# https://www.cell.com/cell/fulltext/S0092-8674(20)30059-3?_returnURL=https%3A%2F%2Flinkinghub.elsevier.com%2Fretrieve%2Fpii%2FS0092867420300593%3Fshowall%3Dtrue#sec4\n",
    "# https://journals.plos.org/plosgenetics/article?id=10.1371/journal.pgen.1008895&utm_source=yxnews&utm_medium=mobile&utm_referrer=https%3A%2F%2Fyandex.kz%2Fnews%2Fstory%2FUchenye_nashli_v_genome_cheloveka_DNK_neizvestnogo_predka--e3c895f1222db5d54204179ebfabd235#abstract0\n",
    "import tskit\n",
    "\n",
    "tables = tskit.TableCollection(1)\n",
    "for _ in range(3):\n",
    "    tables.nodes.add_row(flags=tskit.NODE_IS_SAMPLE)\n",
    "AB = tables.nodes.add_row(time=10)\n",
    "ABC = tables.nodes.add_row(time=20)\n",
    "tables.edges.add_row(0, 1, AB, 0)\n",
    "tables.edges.add_row(0, 1, AB, 1)\n",
    "tables.edges.add_row(0, 1, ABC, 2)\n",
    "tables.edges.add_row(0, 1, ABC, AB)\n",
    "tables.sort()\n",
    "\n",
    "tree = tables.tree_sequence().first()\n",
    "SVG(tree.draw_svg(node_labels={0:\"ND\", 1:\"DN\", 2:\"Modern\", 3:\"Archaic\", 4:\"Hominin\"}))"
   ]
  },
  {
   "cell_type": "code",
   "execution_count": 22,
   "id": "4b309276",
   "metadata": {},
   "outputs": [],
   "source": [
    "import math\n",
    "\n",
    "# Times are provided in years, so we convert into generations.\n",
    "generation_time = 29\n",
    "T_HOM = 575e3 / generation_time\n",
    "T_ARC = 415e3 / generation_time\n",
    "\n",
    "# We need to work out the starting population sizes based on\n",
    "# the growth rates provided for these two populations\n",
    "N_HOM = 18500\n",
    "N_ARC = 7100\n",
    "N_ND = 3400\n",
    "N_DN = 2500\n",
    "N_HUM = 23700\n",
    "\n",
    "speed_of_growth = 0.75"
   ]
  },
  {
   "cell_type": "code",
   "execution_count": 23,
   "id": "7588ac3e",
   "metadata": {},
   "outputs": [
    {
     "data": {
      "text/html": [
       "<div style=\"margin-left:20px\"><div><style scoped=\"\">\n",
       "            .tskit-table thead tr th:only-of-type {vertical-align: middle;}\n",
       "            .tskit-table thead tr th {text-align: center;vertical-align: top;}\n",
       "            .tskit-table tbody td {text-align: right;padding: 0.5em 0.5em;}\n",
       "            .tskit-table tbody th {padding: 0.5em 0.5em;}\n",
       "        </style><b>Populations (5)</b><table border=\"1\" class=\"tskit-table\"><thead><tr><th>id</th><th>name</th><th>description</th><th>initial_size</th><th>growth_rate</th><th>default_sampling_time</th><th>extra_metadata</th></tr></thead><tbody><tr><td>0</td><td>HOM</td><td>Hominin</td><td>18500.0</td><td>0.75</td><td>0</td><td>{}</td></tr><tr><td>1</td><td>ARC</td><td>Archaic</td><td>7100.0</td><td>0.75</td><td>0</td><td>{}</td></tr><tr><td>2</td><td>ND</td><td>Neanderthal</td><td>3400.0</td><td>0.75</td><td>0</td><td>{}</td></tr><tr><td>3</td><td>DN</td><td>Denisovan</td><td>2500.0</td><td>0.75</td><td>0</td><td>{}</td></tr><tr><td>4</td><td>HUM</td><td>Modern human</td><td>23700.0</td><td>0.75</td><td>0</td><td>{}</td></tr></tbody></table></div><div><style scoped=\"\">\n",
       "            .tskit-table thead tr th:only-of-type {vertical-align: middle;}\n",
       "            .tskit-table thead tr th {text-align: center;vertical-align: top;}\n",
       "            .tskit-table tbody td {text-align: right;padding: 0.5em 0.5em;}\n",
       "            .tskit-table tbody th {padding: 0.5em 0.5em;}\n",
       "        </style><b>Migration matrix (all zero)</b><table border=\"1\" class=\"tskit-table\"><thead><tr></tr></thead><tbody></tbody></table></div><div><style scoped=\"\">\n",
       "            .tskit-table thead tr th:only-of-type {vertical-align: middle;}\n",
       "            .tskit-table thead tr th {text-align: center;vertical-align: top;}\n",
       "            .tskit-table tbody td {text-align: right;padding: 0.5em 0.5em;}\n",
       "            .tskit-table tbody th {padding: 0.5em 0.5em;}\n",
       "        </style><b>Events (0)</b><table border=\"1\" class=\"tskit-table\"><thead><tr></tr></thead><tbody></tbody></table></div></div>"
      ],
      "text/plain": [
       "Demography(populations=[Population(initial_size=18500, growth_rate=0.75, name='HOM', description='Hominin', extra_metadata={}, default_sampling_time=None, initially_active=None, id=0), Population(initial_size=7100, growth_rate=0.75, name='ARC', description='Archaic', extra_metadata={}, default_sampling_time=None, initially_active=None, id=1), Population(initial_size=3400, growth_rate=0.75, name='ND', description='Neanderthal', extra_metadata={}, default_sampling_time=None, initially_active=None, id=2), Population(initial_size=2500, growth_rate=0.75, name='DN', description='Denisovan', extra_metadata={}, default_sampling_time=None, initially_active=None, id=3), Population(initial_size=23700, growth_rate=0.75, name='HUM', description='Modern human', extra_metadata={}, default_sampling_time=None, initially_active=None, id=4)], events=[], migration_matrix=array([[0., 0., 0., 0., 0.],\n",
       "       [0., 0., 0., 0., 0.],\n",
       "       [0., 0., 0., 0., 0.],\n",
       "       [0., 0., 0., 0., 0.],\n",
       "       [0., 0., 0., 0., 0.]]))"
      ]
     },
     "execution_count": 23,
     "metadata": {},
     "output_type": "execute_result"
    }
   ],
   "source": [
    "demography = msprime.Demography()\n",
    "\n",
    "demography.add_population(\n",
    "    name=\"HOM\",\n",
    "    description=\"Hominin\",\n",
    "    initial_size=N_HOM,\n",
    "    growth_rate=speed_of_growth,\n",
    ")\n",
    "demography.add_population(\n",
    "    name=\"ARC\",\n",
    "    description=(\n",
    "        \"Archaic\"\n",
    "    ),\n",
    "    initial_size=N_ARC,\n",
    "    growth_rate=speed_of_growth,\n",
    ")\n",
    "demography.add_population(\n",
    "    name=\"ND\",\n",
    "    description=\"Neanderthal\",\n",
    "    initial_size=N_ND,\n",
    "    growth_rate=speed_of_growth,\n",
    ")\n",
    "demography.add_population(\n",
    "    name=\"DN\",\n",
    "    description=\"Denisovan\",\n",
    "    initial_size=N_DN,\n",
    "    growth_rate=speed_of_growth,\n",
    ")\n",
    "demography.add_population(\n",
    "    name=\"HUM\",\n",
    "    description=\"Modern human\",\n",
    "    initial_size=N_HUM,\n",
    "    growth_rate=speed_of_growth,\n",
    ")\n",
    "demography"
   ]
  },
  {
   "cell_type": "code",
   "execution_count": 24,
   "id": "b28ddbe2",
   "metadata": {},
   "outputs": [
    {
     "data": {
      "text/html": [
       "<div style=\"margin-left:20px\"><div><style scoped=\"\">\n",
       "            .tskit-table thead tr th:only-of-type {vertical-align: middle;}\n",
       "            .tskit-table thead tr th {text-align: center;vertical-align: top;}\n",
       "            .tskit-table tbody td {text-align: right;padding: 0.5em 0.5em;}\n",
       "            .tskit-table tbody th {padding: 0.5em 0.5em;}\n",
       "        </style><b>Populations (5)</b><table border=\"1\" class=\"tskit-table\"><thead><tr><th>id</th><th>name</th><th>description</th><th>initial_size</th><th>growth_rate</th><th>default_sampling_time</th><th>extra_metadata</th></tr></thead><tbody><tr><td>0</td><td>HOM</td><td>Hominin</td><td>18500.0</td><td>0.75</td><td>2e+04</td><td>{}</td></tr><tr><td>1</td><td>ARC</td><td>Archaic</td><td>7100.0</td><td>0.75</td><td>1.4e+04</td><td>{}</td></tr><tr><td>2</td><td>ND</td><td>Neanderthal</td><td>3400.0</td><td>0.75</td><td>0</td><td>{}</td></tr><tr><td>3</td><td>DN</td><td>Denisovan</td><td>2500.0</td><td>0.75</td><td>0</td><td>{}</td></tr><tr><td>4</td><td>HUM</td><td>Modern human</td><td>23700.0</td><td>0.75</td><td>0</td><td>{}</td></tr></tbody></table></div><div><style scoped=\"\">\n",
       "            .tskit-table thead tr th:only-of-type {vertical-align: middle;}\n",
       "            .tskit-table thead tr th {text-align: center;vertical-align: top;}\n",
       "            .tskit-table tbody td {text-align: right;padding: 0.5em 0.5em;}\n",
       "            .tskit-table tbody th {padding: 0.5em 0.5em;}\n",
       "        </style><b>Migration matrix (all zero)</b><table border=\"1\" class=\"tskit-table\"><thead><tr></tr></thead><tbody></tbody></table></div><div><style scoped=\"\">\n",
       "            .tskit-table thead tr th:only-of-type {vertical-align: middle;}\n",
       "            .tskit-table thead tr th {text-align: center;vertical-align: top;}\n",
       "            .tskit-table tbody td {text-align: right;padding: 0.5em 0.5em;}\n",
       "            .tskit-table tbody th {padding: 0.5em 0.5em;}\n",
       "        </style><b>Events (2)</b><table border=\"1\" class=\"tskit-table\"><thead><tr><th>time</th><th>type</th><th>parameters</th><th>effect</th></tr></thead><tbody><tr><td>1.431e+04</td><td><a href='https://tskit.dev/msprime/docs/latest/api.html#msprime.Demography.add_population_split'>Population Split</a></td><td>derived=[ND, DN], ancestral=ARC</td><td>Moves all lineages from derived populations &#x27;ND&#x27; and &#x27;DN&#x27; to the ancestral &#x27;ARC&#x27; population. Also set the derived populations to inactive, and all migration rates to and from the derived populations to zero.</td></tr><tr><td>1.983e+04</td><td><a href='https://tskit.dev/msprime/docs/latest/api.html#msprime.Demography.add_population_split'>Population Split</a></td><td>derived=[ARC, HUM], ancestral=HOM</td><td>Moves all lineages from derived populations &#x27;ARC&#x27; and &#x27;HUM&#x27; to the ancestral &#x27;HOM&#x27; population. Also set the derived populations to inactive, and all migration rates to and from the derived populations to zero.</td></tr></tbody></table></div></div>"
      ],
      "text/plain": [
       "Demography(populations=[Population(initial_size=18500, growth_rate=0.75, name='HOM', description='Hominin', extra_metadata={}, default_sampling_time=19827.58620689655, initially_active=False, id=0), Population(initial_size=7100, growth_rate=0.75, name='ARC', description='Archaic', extra_metadata={}, default_sampling_time=14310.344827586207, initially_active=False, id=1), Population(initial_size=3400, growth_rate=0.75, name='ND', description='Neanderthal', extra_metadata={}, default_sampling_time=None, initially_active=None, id=2), Population(initial_size=2500, growth_rate=0.75, name='DN', description='Denisovan', extra_metadata={}, default_sampling_time=None, initially_active=None, id=3), Population(initial_size=23700, growth_rate=0.75, name='HUM', description='Modern human', extra_metadata={}, default_sampling_time=None, initially_active=None, id=4)], events=[PopulationSplit(time=14310.344827586207, derived=['ND', 'DN'], ancestral='ARC'), PopulationSplit(time=19827.58620689655, derived=['ARC', 'HUM'], ancestral='HOM')], migration_matrix=array([[0., 0., 0., 0., 0.],\n",
       "       [0., 0., 0., 0., 0.],\n",
       "       [0., 0., 0., 0., 0.],\n",
       "       [0., 0., 0., 0., 0.],\n",
       "       [0., 0., 0., 0., 0.]]))"
      ]
     },
     "execution_count": 24,
     "metadata": {},
     "output_type": "execute_result"
    }
   ],
   "source": [
    "demography.add_population_split(time=T_HOM, derived=[\"ARC\", \"HUM\"], ancestral=\"HOM\")\n",
    "demography.add_population_split(time=T_ARC, derived=[\"ND\", \"DN\"], ancestral=\"ARC\")\n",
    "demography.sort_events()\n",
    "demography"
   ]
  },
  {
   "cell_type": "code",
   "execution_count": 25,
   "id": "eaf25f7b",
   "metadata": {},
   "outputs": [
    {
     "data": {
      "text/html": [
       "\n",
       "            <div>\n",
       "              <style>\n",
       "                .tskit-table thead tr th {text-align: left;padding: 0.5em 0.5em;}\n",
       "                .tskit-table tbody tr td {padding: 0.5em 0.5em;}\n",
       "                .tskit-table tbody tr td:first-of-type {text-align: left;}\n",
       "                .tskit-details-label {vertical-align: top; padding-right:5px;}\n",
       "                .tskit-table-set {display: inline-flex;flex-wrap: wrap;margin: -12px 0 0 -12px;width: calc(100% + 12px);}\n",
       "                .tskit-table-set-table {margin: 12px 0 0 12px;}\n",
       "                details {display: inline-block;}\n",
       "                summary {cursor: pointer; outline: 0; display: list-item;}\n",
       "              </style>\n",
       "              <div class=\"tskit-table-set\">\n",
       "                <div class=\"tskit-table-set-table\">\n",
       "                  <table class=\"tskit-table\">\n",
       "                    <thead>\n",
       "                      <tr>\n",
       "                        <th style=\"padding:0;line-height:21px;\">\n",
       "                          <img style=\"height: 32px;display: inline-block;padding: 3px 5px 3px 0;\" src=\"https://raw.githubusercontent.com/tskit-dev/administrative/main/tskit_logo.svg\"/>\n",
       "                          <a target=\"_blank\" href=\"https://tskit.dev/tskit/docs/latest/python-api.html#the-treesequence-class\"> Tree Sequence </a>\n",
       "                        </th>\n",
       "                      </tr>\n",
       "                    </thead>\n",
       "                    <tbody>\n",
       "                      <tr><td>Trees</td><td>1</td></tr>\n",
       "                      <tr><td>Sequence Length</td><td>1.0</td></tr>\n",
       "                      <tr><td>Time Units</td><td>generations</td></tr>\n",
       "                      <tr><td>Sample Nodes</td><td>8</td></tr>\n",
       "                      <tr><td>Total Size</td><td>3.8 KiB</td></tr>\n",
       "                      <tr>\n",
       "                        <td>Metadata</td><td style=\"text-align: left;\">No Metadata</td></tr>\n",
       "                    </tbody>\n",
       "                  </table>\n",
       "                </div>\n",
       "                <div class=\"tskit-table-set-table\">\n",
       "                  <table class=\"tskit-table\">\n",
       "                    <thead>\n",
       "                      <tr>\n",
       "                        <th style=\"line-height:21px;\">Table</th>\n",
       "                        <th>Rows</th>\n",
       "                        <th>Size</th>\n",
       "                        <th>Has Metadata</th>\n",
       "                      </tr>\n",
       "                    </thead>\n",
       "                    <tbody>\n",
       "                    \n",
       "                  <tr>\n",
       "                    <td>Edges</td>\n",
       "                      <td>14</td>\n",
       "                      <td>456 Bytes</td>\n",
       "                      <td style=\"text-align: center;\">\n",
       "                        \n",
       "                      </td>\n",
       "                    </tr>\n",
       "                \n",
       "                  <tr>\n",
       "                    <td>Individuals</td>\n",
       "                      <td>4</td>\n",
       "                      <td>136 Bytes</td>\n",
       "                      <td style=\"text-align: center;\">\n",
       "                        \n",
       "                      </td>\n",
       "                    </tr>\n",
       "                \n",
       "                  <tr>\n",
       "                    <td>Migrations</td>\n",
       "                      <td>0</td>\n",
       "                      <td>8 Bytes</td>\n",
       "                      <td style=\"text-align: center;\">\n",
       "                        \n",
       "                      </td>\n",
       "                    </tr>\n",
       "                \n",
       "                  <tr>\n",
       "                    <td>Mutations</td>\n",
       "                      <td>0</td>\n",
       "                      <td>16 Bytes</td>\n",
       "                      <td style=\"text-align: center;\">\n",
       "                        \n",
       "                      </td>\n",
       "                    </tr>\n",
       "                \n",
       "                  <tr>\n",
       "                    <td>Nodes</td>\n",
       "                      <td>15</td>\n",
       "                      <td>428 Bytes</td>\n",
       "                      <td style=\"text-align: center;\">\n",
       "                        \n",
       "                      </td>\n",
       "                    </tr>\n",
       "                \n",
       "                  <tr>\n",
       "                    <td>Populations</td>\n",
       "                      <td>5</td>\n",
       "                      <td>422 Bytes</td>\n",
       "                      <td style=\"text-align: center;\">\n",
       "                        ✅\n",
       "                      </td>\n",
       "                    </tr>\n",
       "                \n",
       "                  <tr>\n",
       "                    <td>Provenances</td>\n",
       "                      <td>1</td>\n",
       "                      <td>2.2 KiB</td>\n",
       "                      <td style=\"text-align: center;\">\n",
       "                        \n",
       "                      </td>\n",
       "                    </tr>\n",
       "                \n",
       "                  <tr>\n",
       "                    <td>Sites</td>\n",
       "                      <td>0</td>\n",
       "                      <td>16 Bytes</td>\n",
       "                      <td style=\"text-align: center;\">\n",
       "                        \n",
       "                      </td>\n",
       "                    </tr>\n",
       "                \n",
       "                    </tbody>\n",
       "                  </table>\n",
       "                </div>\n",
       "              </div>\n",
       "            </div>\n",
       "            "
      ],
      "text/plain": [
       "<tskit.trees.TreeSequence at 0x7f191a4d8550>"
      ]
     },
     "execution_count": 25,
     "metadata": {},
     "output_type": "execute_result"
    }
   ],
   "source": [
    "ts = msprime.sim_ancestry({\"HUM\": 4}, demography=demography)\n",
    "ts"
   ]
  }
 ],
 "metadata": {
  "kernelspec": {
   "display_name": "Python 3 (ipykernel)",
   "language": "python",
   "name": "python3"
  },
  "language_info": {
   "codemirror_mode": {
    "name": "ipython",
    "version": 3
   },
   "file_extension": ".py",
   "mimetype": "text/x-python",
   "name": "python",
   "nbconvert_exporter": "python",
   "pygments_lexer": "ipython3",
   "version": "3.9.7"
  }
 },
 "nbformat": 4,
 "nbformat_minor": 5
}
