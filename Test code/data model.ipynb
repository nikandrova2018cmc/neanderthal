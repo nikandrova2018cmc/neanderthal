{
 "cells": [
  {
   "cell_type": "code",
   "execution_count": 2,
   "id": "1dda7565",
   "metadata": {},
   "outputs": [
    {
     "ename": "NameError",
     "evalue": "name 'SVG' is not defined",
     "output_type": "error",
     "traceback": [
      "\u001b[0;31m---------------------------------------------------------------------------\u001b[0m",
      "\u001b[0;31mNameError\u001b[0m                                 Traceback (most recent call last)",
      "\u001b[0;32m/var/folders/1g/5mn34yls6cjd_rb_3r7jzs2h0000gn/T/ipykernel_16391/3423106247.py\u001b[0m in \u001b[0;36m<module>\u001b[0;34m\u001b[0m\n\u001b[1;32m     15\u001b[0m \u001b[0;34m\u001b[0m\u001b[0m\n\u001b[1;32m     16\u001b[0m \u001b[0mtree\u001b[0m \u001b[0;34m=\u001b[0m \u001b[0mtables\u001b[0m\u001b[0;34m.\u001b[0m\u001b[0mtree_sequence\u001b[0m\u001b[0;34m(\u001b[0m\u001b[0;34m)\u001b[0m\u001b[0;34m.\u001b[0m\u001b[0mfirst\u001b[0m\u001b[0;34m(\u001b[0m\u001b[0;34m)\u001b[0m\u001b[0;34m\u001b[0m\u001b[0;34m\u001b[0m\u001b[0m\n\u001b[0;32m---> 17\u001b[0;31m \u001b[0mSVG\u001b[0m\u001b[0;34m(\u001b[0m\u001b[0mtree\u001b[0m\u001b[0;34m.\u001b[0m\u001b[0mdraw_svg\u001b[0m\u001b[0;34m(\u001b[0m\u001b[0mnode_labels\u001b[0m\u001b[0;34m=\u001b[0m\u001b[0;34m{\u001b[0m\u001b[0;36m0\u001b[0m\u001b[0;34m:\u001b[0m\u001b[0;34m\"ND\"\u001b[0m\u001b[0;34m,\u001b[0m \u001b[0;36m1\u001b[0m\u001b[0;34m:\u001b[0m\u001b[0;34m\"DN\"\u001b[0m\u001b[0;34m,\u001b[0m \u001b[0;36m2\u001b[0m\u001b[0;34m:\u001b[0m\u001b[0;34m\"Modern\"\u001b[0m\u001b[0;34m,\u001b[0m \u001b[0;36m3\u001b[0m\u001b[0;34m:\u001b[0m\u001b[0;34m\"Archaic\"\u001b[0m\u001b[0;34m,\u001b[0m \u001b[0;36m4\u001b[0m\u001b[0;34m:\u001b[0m\u001b[0;34m\"Hominin\"\u001b[0m\u001b[0;34m}\u001b[0m\u001b[0;34m)\u001b[0m\u001b[0;34m)\u001b[0m\u001b[0;34m\u001b[0m\u001b[0;34m\u001b[0m\u001b[0m\n\u001b[0m",
      "\u001b[0;31mNameError\u001b[0m: name 'SVG' is not defined"
     ]
    }
   ],
   "source": [
    "# https://www.cell.com/cell/fulltext/S0092-8674(20)30059-3?_returnURL=https%3A%2F%2Flinkinghub.elsevier.com%2Fretrieve%2Fpii%2FS0092867420300593%3Fshowall%3Dtrue#sec4\n",
    "# https://journals.plos.org/plosgenetics/article?id=10.1371/journal.pgen.1008895&utm_source=yxnews&utm_medium=mobile&utm_referrer=https%3A%2F%2Fyandex.kz%2Fnews%2Fstory%2FUchenye_nashli_v_genome_cheloveka_DNK_neizvestnogo_predka--e3c895f1222db5d54204179ebfabd235#abstract0\n",
    "import tskit\n",
    "\n",
    "tables = tskit.TableCollection(1)\n",
    "for _ in range(3):\n",
    "    tables.nodes.add_row(flags=tskit.NODE_IS_SAMPLE)\n",
    "AB = tables.nodes.add_row(time=10)\n",
    "ABC = tables.nodes.add_row(time=20)\n",
    "tables.edges.add_row(0, 1, AB, 0)\n",
    "tables.edges.add_row(0, 1, AB, 1)\n",
    "tables.edges.add_row(0, 1, ABC, 2)\n",
    "tables.edges.add_row(0, 1, ABC, AB)\n",
    "tables.sort()\n",
    "\n",
    "tree = tables.tree_sequence().first()\n",
    "SVG(tree.draw_svg(node_labels={0:\"ND\", 1:\"DN\", 2:\"Modern\", 3:\"Archaic\", 4:\"Hominin\"}))"
   ]
  },
  {
   "cell_type": "code",
   "execution_count": 3,
   "id": "4b309276",
   "metadata": {},
   "outputs": [],
   "source": [
    "import math\n",
    "\n",
    "# Times are provided in years, so we convert into generations.\n",
    "generation_time = 29\n",
    "T_HOM = 575e3 / generation_time\n",
    "T_ARC = 415e3 / generation_time\n",
    "\n",
    "# We need to work out the starting population sizes based on\n",
    "# the growth rates provided for these two populations\n",
    "N_HOM = 18500\n",
    "N_ARC = 7100\n",
    "N_ND = 3400\n",
    "N_DN = 2500\n",
    "N_HUM = 23700\n",
    "\n",
    "speed_of_growth = 0.75"
   ]
  },
  {
   "cell_type": "code",
   "execution_count": 23,
   "id": "7588ac3e",
   "metadata": {},
   "outputs": [
    {
     "data": {
      "text/html": [
       "<div style=\"margin-left:20px\"><div><style scoped=\"\">\n",
       "            .tskit-table thead tr th:only-of-type {vertical-align: middle;}\n",
       "            .tskit-table thead tr th {text-align: center;vertical-align: top;}\n",
       "            .tskit-table tbody td {text-align: right;padding: 0.5em 0.5em;}\n",
       "            .tskit-table tbody th {padding: 0.5em 0.5em;}\n",
       "        </style><b>Populations (5)</b><table border=\"1\" class=\"tskit-table\"><thead><tr><th>id</th><th>name</th><th>description</th><th>initial_size</th><th>growth_rate</th><th>default_sampling_time</th><th>extra_metadata</th></tr></thead><tbody><tr><td>0</td><td>HOM</td><td>Hominin</td><td>18500.0</td><td>0.75</td><td>0</td><td>{}</td></tr><tr><td>1</td><td>ARC</td><td>Archaic</td><td>7100.0</td><td>0.75</td><td>0</td><td>{}</td></tr><tr><td>2</td><td>ND</td><td>Neanderthal</td><td>3400.0</td><td>0.75</td><td>0</td><td>{}</td></tr><tr><td>3</td><td>DN</td><td>Denisovan</td><td>2500.0</td><td>0.75</td><td>0</td><td>{}</td></tr><tr><td>4</td><td>HUM</td><td>Modern human</td><td>23700.0</td><td>0.75</td><td>0</td><td>{}</td></tr></tbody></table></div><div><style scoped=\"\">\n",
       "            .tskit-table thead tr th:only-of-type {vertical-align: middle;}\n",
       "            .tskit-table thead tr th {text-align: center;vertical-align: top;}\n",
       "            .tskit-table tbody td {text-align: right;padding: 0.5em 0.5em;}\n",
       "            .tskit-table tbody th {padding: 0.5em 0.5em;}\n",
       "        </style><b>Migration matrix (all zero)</b><table border=\"1\" class=\"tskit-table\"><thead><tr></tr></thead><tbody></tbody></table></div><div><style scoped=\"\">\n",
       "            .tskit-table thead tr th:only-of-type {vertical-align: middle;}\n",
       "            .tskit-table thead tr th {text-align: center;vertical-align: top;}\n",
       "            .tskit-table tbody td {text-align: right;padding: 0.5em 0.5em;}\n",
       "            .tskit-table tbody th {padding: 0.5em 0.5em;}\n",
       "        </style><b>Events (0)</b><table border=\"1\" class=\"tskit-table\"><thead><tr></tr></thead><tbody></tbody></table></div></div>"
      ],
      "text/plain": [
       "Demography(populations=[Population(initial_size=18500, growth_rate=0.75, name='HOM', description='Hominin', extra_metadata={}, default_sampling_time=None, initially_active=None, id=0), Population(initial_size=7100, growth_rate=0.75, name='ARC', description='Archaic', extra_metadata={}, default_sampling_time=None, initially_active=None, id=1), Population(initial_size=3400, growth_rate=0.75, name='ND', description='Neanderthal', extra_metadata={}, default_sampling_time=None, initially_active=None, id=2), Population(initial_size=2500, growth_rate=0.75, name='DN', description='Denisovan', extra_metadata={}, default_sampling_time=None, initially_active=None, id=3), Population(initial_size=23700, growth_rate=0.75, name='HUM', description='Modern human', extra_metadata={}, default_sampling_time=None, initially_active=None, id=4)], events=[], migration_matrix=array([[0., 0., 0., 0., 0.],\n",
       "       [0., 0., 0., 0., 0.],\n",
       "       [0., 0., 0., 0., 0.],\n",
       "       [0., 0., 0., 0., 0.],\n",
       "       [0., 0., 0., 0., 0.]]))"
      ]
     },
     "execution_count": 23,
     "metadata": {},
     "output_type": "execute_result"
    }
   ],
   "source": [
    "demography = msprime.Demography()\n",
    "\n",
    "demography.add_population(\n",
    "    name=\"HOM\",\n",
    "    description=\"Hominin\",\n",
    "    initial_size=N_HOM,\n",
    "    growth_rate=speed_of_growth,\n",
    ")\n",
    "demography.add_population(\n",
    "    name=\"ARC\",\n",
    "    description=(\n",
    "        \"Archaic\"\n",
    "    ),\n",
    "    initial_size=N_ARC,\n",
    "    growth_rate=speed_of_growth,\n",
    ")\n",
    "demography.add_population(\n",
    "    name=\"ND\",\n",
    "    description=\"Neanderthal\",\n",
    "    initial_size=N_ND,\n",
    "    growth_rate=speed_of_growth,\n",
    ")\n",
    "demography.add_population(\n",
    "    name=\"DN\",\n",
    "    description=\"Denisovan\",\n",
    "    initial_size=N_DN,\n",
    "    growth_rate=speed_of_growth,\n",
    ")\n",
    "demography.add_population(\n",
    "    name=\"HUM\",\n",
    "    description=\"Modern human\",\n",
    "    initial_size=N_HUM,\n",
    "    growth_rate=speed_of_growth,\n",
    ")\n",
    "demography"
   ]
  },
  {
   "cell_type": "code",
   "execution_count": 24,
   "id": "b28ddbe2",
   "metadata": {},
   "outputs": [
    {
     "data": {
      "text/html": [
       "<div style=\"margin-left:20px\"><div><style scoped=\"\">\n",
       "            .tskit-table thead tr th:only-of-type {vertical-align: middle;}\n",
       "            .tskit-table thead tr th {text-align: center;vertical-align: top;}\n",
       "            .tskit-table tbody td {text-align: right;padding: 0.5em 0.5em;}\n",
       "            .tskit-table tbody th {padding: 0.5em 0.5em;}\n",
       "        </style><b>Populations (5)</b><table border=\"1\" class=\"tskit-table\"><thead><tr><th>id</th><th>name</th><th>description</th><th>initial_size</th><th>growth_rate</th><th>default_sampling_time</th><th>extra_metadata</th></tr></thead><tbody><tr><td>0</td><td>HOM</td><td>Hominin</td><td>18500.0</td><td>0.75</td><td>2e+04</td><td>{}</td></tr><tr><td>1</td><td>ARC</td><td>Archaic</td><td>7100.0</td><td>0.75</td><td>1.4e+04</td><td>{}</td></tr><tr><td>2</td><td>ND</td><td>Neanderthal</td><td>3400.0</td><td>0.75</td><td>0</td><td>{}</td></tr><tr><td>3</td><td>DN</td><td>Denisovan</td><td>2500.0</td><td>0.75</td><td>0</td><td>{}</td></tr><tr><td>4</td><td>HUM</td><td>Modern human</td><td>23700.0</td><td>0.75</td><td>0</td><td>{}</td></tr></tbody></table></div><div><style scoped=\"\">\n",
       "            .tskit-table thead tr th:only-of-type {vertical-align: middle;}\n",
       "            .tskit-table thead tr th {text-align: center;vertical-align: top;}\n",
       "            .tskit-table tbody td {text-align: right;padding: 0.5em 0.5em;}\n",
       "            .tskit-table tbody th {padding: 0.5em 0.5em;}\n",
       "        </style><b>Migration matrix (all zero)</b><table border=\"1\" class=\"tskit-table\"><thead><tr></tr></thead><tbody></tbody></table></div><div><style scoped=\"\">\n",
       "            .tskit-table thead tr th:only-of-type {vertical-align: middle;}\n",
       "            .tskit-table thead tr th {text-align: center;vertical-align: top;}\n",
       "            .tskit-table tbody td {text-align: right;padding: 0.5em 0.5em;}\n",
       "            .tskit-table tbody th {padding: 0.5em 0.5em;}\n",
       "        </style><b>Events (2)</b><table border=\"1\" class=\"tskit-table\"><thead><tr><th>time</th><th>type</th><th>parameters</th><th>effect</th></tr></thead><tbody><tr><td>1.431e+04</td><td><a href='https://tskit.dev/msprime/docs/latest/api.html#msprime.Demography.add_population_split'>Population Split</a></td><td>derived=[ND, DN], ancestral=ARC</td><td>Moves all lineages from derived populations &#x27;ND&#x27; and &#x27;DN&#x27; to the ancestral &#x27;ARC&#x27; population. Also set the derived populations to inactive, and all migration rates to and from the derived populations to zero.</td></tr><tr><td>1.983e+04</td><td><a href='https://tskit.dev/msprime/docs/latest/api.html#msprime.Demography.add_population_split'>Population Split</a></td><td>derived=[ARC, HUM], ancestral=HOM</td><td>Moves all lineages from derived populations &#x27;ARC&#x27; and &#x27;HUM&#x27; to the ancestral &#x27;HOM&#x27; population. Also set the derived populations to inactive, and all migration rates to and from the derived populations to zero.</td></tr></tbody></table></div></div>"
      ],
      "text/plain": [
       "Demography(populations=[Population(initial_size=18500, growth_rate=0.75, name='HOM', description='Hominin', extra_metadata={}, default_sampling_time=19827.58620689655, initially_active=False, id=0), Population(initial_size=7100, growth_rate=0.75, name='ARC', description='Archaic', extra_metadata={}, default_sampling_time=14310.344827586207, initially_active=False, id=1), Population(initial_size=3400, growth_rate=0.75, name='ND', description='Neanderthal', extra_metadata={}, default_sampling_time=None, initially_active=None, id=2), Population(initial_size=2500, growth_rate=0.75, name='DN', description='Denisovan', extra_metadata={}, default_sampling_time=None, initially_active=None, id=3), Population(initial_size=23700, growth_rate=0.75, name='HUM', description='Modern human', extra_metadata={}, default_sampling_time=None, initially_active=None, id=4)], events=[PopulationSplit(time=14310.344827586207, derived=['ND', 'DN'], ancestral='ARC'), PopulationSplit(time=19827.58620689655, derived=['ARC', 'HUM'], ancestral='HOM')], migration_matrix=array([[0., 0., 0., 0., 0.],\n",
       "       [0., 0., 0., 0., 0.],\n",
       "       [0., 0., 0., 0., 0.],\n",
       "       [0., 0., 0., 0., 0.],\n",
       "       [0., 0., 0., 0., 0.]]))"
      ]
     },
     "execution_count": 24,
     "metadata": {},
     "output_type": "execute_result"
    }
   ],
   "source": [
    "demography.add_population_split(time=T_HOM, derived=[\"ARC\", \"HUM\"], ancestral=\"HOM\")\n",
    "demography.add_population_split(time=T_ARC, derived=[\"ND\", \"DN\"], ancestral=\"ARC\")\n",
    "demography.sort_events()\n",
    "demography"
   ]
  },
  {
   "cell_type": "code",
   "execution_count": 1,
   "id": "eaf25f7b",
   "metadata": {},
   "outputs": [
    {
     "ename": "NameError",
     "evalue": "name 'msprime' is not defined",
     "output_type": "error",
     "traceback": [
      "\u001b[0;31m---------------------------------------------------------------------------\u001b[0m",
      "\u001b[0;31mNameError\u001b[0m                                 Traceback (most recent call last)",
      "\u001b[0;32m/var/folders/1g/5mn34yls6cjd_rb_3r7jzs2h0000gn/T/ipykernel_16391/2911942749.py\u001b[0m in \u001b[0;36m<module>\u001b[0;34m\u001b[0m\n\u001b[0;32m----> 1\u001b[0;31m \u001b[0mts\u001b[0m \u001b[0;34m=\u001b[0m \u001b[0mmsprime\u001b[0m\u001b[0;34m.\u001b[0m\u001b[0msim_ancestry\u001b[0m\u001b[0;34m(\u001b[0m\u001b[0;34m{\u001b[0m\u001b[0;34m\"HUM\"\u001b[0m\u001b[0;34m:\u001b[0m \u001b[0;36m4\u001b[0m\u001b[0;34m}\u001b[0m\u001b[0;34m,\u001b[0m \u001b[0mdemography\u001b[0m\u001b[0;34m=\u001b[0m\u001b[0mdemography\u001b[0m\u001b[0;34m)\u001b[0m\u001b[0;34m\u001b[0m\u001b[0;34m\u001b[0m\u001b[0m\n\u001b[0m\u001b[1;32m      2\u001b[0m \u001b[0mts\u001b[0m\u001b[0;34m\u001b[0m\u001b[0;34m\u001b[0m\u001b[0m\n",
      "\u001b[0;31mNameError\u001b[0m: name 'msprime' is not defined"
     ]
    }
   ],
   "source": [
    "ts = msprime.sim_ancestry({\"HUM\": 4}, demography=demography)\n",
    "ts"
   ]
  },
  {
   "cell_type": "code",
   "execution_count": 4,
   "id": "b43f02c6",
   "metadata": {},
   "outputs": [
    {
     "ename": "NameError",
     "evalue": "name 'msprime' is not defined",
     "output_type": "error",
     "traceback": [
      "\u001b[0;31m---------------------------------------------------------------------------\u001b[0m",
      "\u001b[0;31mNameError\u001b[0m                                 Traceback (most recent call last)",
      "\u001b[0;32m/var/folders/1g/5mn34yls6cjd_rb_3r7jzs2h0000gn/T/ipykernel_16391/4204619806.py\u001b[0m in \u001b[0;36m<module>\u001b[0;34m\u001b[0m\n\u001b[0;32m----> 1\u001b[0;31m \u001b[0mts\u001b[0m \u001b[0;34m=\u001b[0m \u001b[0mmsprime\u001b[0m\u001b[0;34m.\u001b[0m\u001b[0msim_ancestry\u001b[0m\u001b[0;34m(\u001b[0m\u001b[0;34m{\u001b[0m\u001b[0;34m\"HUM\"\u001b[0m\u001b[0;34m:\u001b[0m \u001b[0;36m4\u001b[0m\u001b[0;34m}\u001b[0m\u001b[0;34m,\u001b[0m \u001b[0mdemography\u001b[0m\u001b[0;34m=\u001b[0m\u001b[0mdemography\u001b[0m\u001b[0;34m)\u001b[0m\u001b[0;34m\u001b[0m\u001b[0;34m\u001b[0m\u001b[0m\n\u001b[0m",
      "\u001b[0;31mNameError\u001b[0m: name 'msprime' is not defined"
     ]
    }
   ],
   "source": [
    "ts = msprime.sim_ancestry({\"HUM\": 4}, demography=demography)\n"
   ]
  },
  {
   "cell_type": "code",
   "execution_count": 5,
   "id": "63ad56a4",
   "metadata": {},
   "outputs": [
    {
     "ename": "SyntaxError",
     "evalue": "keyword argument repeated: demography (testScript.py, line 58)",
     "output_type": "error",
     "traceback": [
      "Traceback \u001b[0;36m(most recent call last)\u001b[0m:\n",
      "  File \u001b[1;32m\"/Users/leoplanche/opt/anaconda3/lib/python3.9/site-packages/IPython/core/interactiveshell.py\"\u001b[0m, line \u001b[1;32m3444\u001b[0m, in \u001b[1;35mrun_code\u001b[0m\n    exec(code_obj, self.user_global_ns, self.user_ns)\n",
      "\u001b[0;36m  File \u001b[0;32m\"/var/folders/1g/5mn34yls6cjd_rb_3r7jzs2h0000gn/T/ipykernel_16391/1582375993.py\"\u001b[0;36m, line \u001b[0;32m1\u001b[0;36m, in \u001b[0;35m<module>\u001b[0;36m\u001b[0m\n\u001b[0;31m    import testScript.py\u001b[0m\n",
      "\u001b[0;36m  File \u001b[0;32m\"/Users/leoplanche/neanderthal/Test code/testScript.py\"\u001b[0;36m, line \u001b[0;32m58\u001b[0m\n\u001b[0;31m    ts = msprime.sim_ancestry({\"HUM\": 4}, demography=demography, ploidy = 1, sequence_length=10000000,recombination_rate=2.5e-9, demography=demography,record_migrations=True, random_seed=543212)\u001b[0m\n\u001b[0m                                                                                                                                 ^\u001b[0m\n\u001b[0;31mSyntaxError\u001b[0m\u001b[0;31m:\u001b[0m keyword argument repeated: demography\n"
     ]
    }
   ],
   "source": [
    "import testScript.py"
   ]
  },
  {
   "cell_type": "code",
   "execution_count": 6,
   "id": "e20c7c24",
   "metadata": {
    "scrolled": true
   },
   "outputs": [
    {
     "ename": "ModuleNotFoundError",
     "evalue": "No module named 'testScript.py'; 'testScript' is not a package",
     "output_type": "error",
     "traceback": [
      "\u001b[0;31m---------------------------------------------------------------------------\u001b[0m",
      "\u001b[0;31mModuleNotFoundError\u001b[0m                       Traceback (most recent call last)",
      "\u001b[0;32m/var/folders/1g/5mn34yls6cjd_rb_3r7jzs2h0000gn/T/ipykernel_16391/1582375993.py\u001b[0m in \u001b[0;36m<module>\u001b[0;34m\u001b[0m\n\u001b[0;32m----> 1\u001b[0;31m \u001b[0;32mimport\u001b[0m \u001b[0mtestScript\u001b[0m\u001b[0;34m.\u001b[0m\u001b[0mpy\u001b[0m\u001b[0;34m\u001b[0m\u001b[0;34m\u001b[0m\u001b[0m\n\u001b[0m",
      "\u001b[0;31mModuleNotFoundError\u001b[0m: No module named 'testScript.py'; 'testScript' is not a package"
     ]
    }
   ],
   "source": [
    "import testScript.py"
   ]
  },
  {
   "cell_type": "code",
   "execution_count": 7,
   "id": "04eccd2f",
   "metadata": {},
   "outputs": [],
   "source": [
    "import testScript"
   ]
  },
  {
   "cell_type": "code",
   "execution_count": 8,
   "id": "1d7ba797",
   "metadata": {},
   "outputs": [
    {
     "data": {
      "text/plain": [
       "<module 'testScript' from '/Users/leoplanche/neanderthal/Test code/testScript.py'>"
      ]
     },
     "execution_count": 8,
     "metadata": {},
     "output_type": "execute_result"
    }
   ],
   "source": [
    "testScript"
   ]
  },
  {
   "cell_type": "code",
   "execution_count": null,
   "id": "549f3467",
   "metadata": {},
   "outputs": [],
   "source": []
  }
 ],
 "metadata": {
  "kernelspec": {
   "display_name": "Python 3 (ipykernel)",
   "language": "python",
   "name": "python3"
  },
  "language_info": {
   "codemirror_mode": {
    "name": "ipython",
    "version": 3
   },
   "file_extension": ".py",
   "mimetype": "text/x-python",
   "name": "python",
   "nbconvert_exporter": "python",
   "pygments_lexer": "ipython3",
   "version": "3.9.7"
  }
 },
 "nbformat": 4,
 "nbformat_minor": 5
}
